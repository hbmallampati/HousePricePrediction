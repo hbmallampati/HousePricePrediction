{
 "cells": [
  {
   "cell_type": "markdown",
   "metadata": {
    "id": "1Yz9bUaJbWGE"
   },
   "source": [
    "# Linear Regression with Batch Gradient Descent\n",
    "\n",
    "You will train your model using a real world dataset.  The dataset contains a collection of real estate listings in San Luis Obispo county.\n",
    "\n",
    "https://wiki.csc.calpoly.edu/datasets/wiki/Houses\n",
    "\n",
    "To make it simpler for this assignment, the dataset has been slightly modified.  It contains the following fields:\n",
    "\n",
    "1.\tMLS: Multiple listing service number for the house (unique ID).\n",
    "2.\tPrice: the most recent listing price of the house (in dollars).\n",
    "3.\tBedrooms: number of bedrooms.\n",
    "4.\tBathrooms: number of bathrooms.\n",
    "5.\tSize: size of the house in square feet.\n",
    "6.\tPrice/SQ.ft: price of the house per square foot.\n",
    "\n",
    "The model predict the housing price given the square footage of the house.\n"
   ]
  },
  {
   "cell_type": "code",
   "execution_count": 2,
   "metadata": {
    "colab": {
     "base_uri": "https://localhost:8080/",
     "height": 363
    },
    "id": "5rPpln2qbWGG",
    "outputId": "c387f212-8b3e-492d-9203-f13abf57b4dd"
   },
   "outputs": [
    {
     "data": {
      "text/html": [
       "<div>\n",
       "<style scoped>\n",
       "    .dataframe tbody tr th:only-of-type {\n",
       "        vertical-align: middle;\n",
       "    }\n",
       "\n",
       "    .dataframe tbody tr th {\n",
       "        vertical-align: top;\n",
       "    }\n",
       "\n",
       "    .dataframe thead th {\n",
       "        text-align: right;\n",
       "    }\n",
       "</style>\n",
       "<table border=\"1\" class=\"dataframe\">\n",
       "  <thead>\n",
       "    <tr style=\"text-align: right;\">\n",
       "      <th></th>\n",
       "      <th>MPLS</th>\n",
       "      <th>Price</th>\n",
       "      <th>Bedrooms</th>\n",
       "      <th>Bathrooms</th>\n",
       "      <th>Size</th>\n",
       "      <th>PriceSq</th>\n",
       "    </tr>\n",
       "  </thead>\n",
       "  <tbody>\n",
       "    <tr>\n",
       "      <th>0</th>\n",
       "      <td>132842</td>\n",
       "      <td>795000</td>\n",
       "      <td>3</td>\n",
       "      <td>3</td>\n",
       "      <td>2371</td>\n",
       "      <td>335.30</td>\n",
       "    </tr>\n",
       "    <tr>\n",
       "      <th>1</th>\n",
       "      <td>134364</td>\n",
       "      <td>399000</td>\n",
       "      <td>4</td>\n",
       "      <td>3</td>\n",
       "      <td>2818</td>\n",
       "      <td>141.59</td>\n",
       "    </tr>\n",
       "    <tr>\n",
       "      <th>2</th>\n",
       "      <td>135141</td>\n",
       "      <td>545000</td>\n",
       "      <td>4</td>\n",
       "      <td>3</td>\n",
       "      <td>3032</td>\n",
       "      <td>179.75</td>\n",
       "    </tr>\n",
       "    <tr>\n",
       "      <th>3</th>\n",
       "      <td>135712</td>\n",
       "      <td>909000</td>\n",
       "      <td>4</td>\n",
       "      <td>4</td>\n",
       "      <td>3540</td>\n",
       "      <td>256.78</td>\n",
       "    </tr>\n",
       "    <tr>\n",
       "      <th>4</th>\n",
       "      <td>136282</td>\n",
       "      <td>109900</td>\n",
       "      <td>3</td>\n",
       "      <td>1</td>\n",
       "      <td>1249</td>\n",
       "      <td>87.99</td>\n",
       "    </tr>\n",
       "    <tr>\n",
       "      <th>5</th>\n",
       "      <td>136431</td>\n",
       "      <td>324900</td>\n",
       "      <td>3</td>\n",
       "      <td>3</td>\n",
       "      <td>1800</td>\n",
       "      <td>180.50</td>\n",
       "    </tr>\n",
       "    <tr>\n",
       "      <th>6</th>\n",
       "      <td>137036</td>\n",
       "      <td>192900</td>\n",
       "      <td>4</td>\n",
       "      <td>2</td>\n",
       "      <td>1603</td>\n",
       "      <td>120.34</td>\n",
       "    </tr>\n",
       "    <tr>\n",
       "      <th>7</th>\n",
       "      <td>137090</td>\n",
       "      <td>215000</td>\n",
       "      <td>3</td>\n",
       "      <td>2</td>\n",
       "      <td>1450</td>\n",
       "      <td>148.28</td>\n",
       "    </tr>\n",
       "    <tr>\n",
       "      <th>8</th>\n",
       "      <td>137159</td>\n",
       "      <td>999000</td>\n",
       "      <td>4</td>\n",
       "      <td>3</td>\n",
       "      <td>3360</td>\n",
       "      <td>297.32</td>\n",
       "    </tr>\n",
       "    <tr>\n",
       "      <th>9</th>\n",
       "      <td>137570</td>\n",
       "      <td>319000</td>\n",
       "      <td>3</td>\n",
       "      <td>2</td>\n",
       "      <td>1323</td>\n",
       "      <td>241.12</td>\n",
       "    </tr>\n",
       "  </tbody>\n",
       "</table>\n",
       "</div>"
      ],
      "text/plain": [
       "     MPLS   Price  Bedrooms  Bathrooms  Size  PriceSq\n",
       "0  132842  795000         3          3  2371   335.30\n",
       "1  134364  399000         4          3  2818   141.59\n",
       "2  135141  545000         4          3  3032   179.75\n",
       "3  135712  909000         4          4  3540   256.78\n",
       "4  136282  109900         3          1  1249    87.99\n",
       "5  136431  324900         3          3  1800   180.50\n",
       "6  137036  192900         4          2  1603   120.34\n",
       "7  137090  215000         3          2  1450   148.28\n",
       "8  137159  999000         4          3  3360   297.32\n",
       "9  137570  319000         3          2  1323   241.12"
      ]
     },
     "execution_count": 2,
     "metadata": {},
     "output_type": "execute_result"
    }
   ],
   "source": [
    "import numpy as np\n",
    "import pandas as pd\n",
    "import numpy.matlib\n",
    "import matplotlib.pyplot as plt\n",
    "\n",
    "# read dataset\n",
    "df = pd.read_csv(\"housing_price_data.csv\")\n",
    "\n",
    "df.head(10)"
   ]
  },
  {
   "cell_type": "code",
   "execution_count": 3,
   "metadata": {
    "colab": {
     "base_uri": "https://localhost:8080/",
     "height": 290
    },
    "id": "aRqF_u8NbWGM",
    "outputId": "690b36d6-b156-4a5f-c31d-4c358f1f3b86",
    "scrolled": true
   },
   "outputs": [
    {
     "data": {
      "image/png": "[encoded data removed]",
      "text/plain": [
       "<Figure size 432x288 with 1 Axes>"
      ]
     },
     "metadata": {
      "needs_background": "light"
     },
     "output_type": "display_data"
    }
   ],
   "source": [
    "# Plot data points\n",
    "X, y = (df[\"Size\"].values,df[\"Price\"].values) \n",
    "\n",
    "X = X.reshape(len(X),1)\n",
    "y = y.reshape(len(y),1)\n",
    "\n",
    "#plots the data points\n",
    "plt.plot(X, y, 'ro')\n",
    "plt.xlabel(\"# Square footage\")\n",
    "plt.ylabel(\"Price\")\n",
    "plt.show()"
   ]
  },
  {
   "cell_type": "code",
   "execution_count": 4,
   "metadata": {
    "colab": {
     "base_uri": "https://localhost:8080/"
    },
    "id": "ROuUVItqbWGR",
    "outputId": "c8da0f82-89d9-4c84-c95c-b6f4b7a5dabf"
   },
   "outputs": [
    {
     "name": "stdout",
     "output_type": "stream",
     "text": [
      "(781, 2)\n",
      "(781, 1)\n"
     ]
    }
   ],
   "source": [
    "# Normalize the house size, e.g., subtract min and divide by (max-min) to ensure \n",
    "# the scale is compatible with the bias, which is 1\n",
    "max_min = X.max(0) - X.min(0)\n",
    "Xmin = X.min(0)\n",
    "X = (X-Xmin) / max_min\n",
    "\n",
    "# Add bias\n",
    "z=np.ones((len(X),1)) \n",
    "X = X.reshape(len(X),1)\n",
    "X = np.concatenate((z,X), axis=1)                \n",
    "y = y.reshape(len(X),1) \n",
    "\n",
    "# sort for testing/plotting\n",
    "Xsort = np.sort(X, axis=0)\n",
    "\n",
    "print(X.shape)\n",
    "print(y.shape)\n",
    "\n",
    "# For non-vectorized\n",
    "X_train = X[:,1]\n",
    "y_train = y"
   ]
  },
  {
   "cell_type": "markdown",
   "metadata": {
    "id": "nNgLG_ZmbWGW"
   },
   "source": [
    "## Perform gradient descent"
   ]
  },
  {
   "cell_type": "code",
   "execution_count": 5,
   "metadata": {
    "id": "L2KhyZwzbWGX"
   },
   "outputs": [],
   "source": [
    "# Initialize vector w \n",
    "np.random.seed(20)\n",
    "w = np.random.rand(2,1)\n",
    "w0 = w[0]\n",
    "w1 = w[1]\n",
    "\n",
    "# Learning rate\n",
    "nu = 0.01\n",
    "\n",
    "N = len(y)\n",
    "\n",
    "# Number of epochs\n",
    "MAX_EPOCHS = 2000\n",
    "\n",
    "mse_array = []  \n",
    "\n",
    "# Loop for 2000 epochs\n",
    "for itr in range (0, MAX_EPOCHS):\n",
    "    # X_train is 781x1 and y_train is 781x1\n",
    "    x = X_train.reshape(781,1)\n",
    "    y = y_train.reshape(781,1)\n",
    "\n",
    "    W0 = (np.matlib.repmat(w0,len(X),1))\n",
    "    W1 = (np.matlib.repmat(w1,len(X),1))\n",
    "\n",
    "    dw0 = (1/N)*(np.sum(W0 + W1*x - y))\n",
    "    dw1 = (1/N)*(np.sum((W0 + W1*x - y)*x))\n",
    "  \n",
    "    # [TO DO]: write update equation\n",
    "    w0 = w0 - nu*dw0\n",
    "    w1 = w1 - nu*dw1\n",
    "\n",
    "    W0 = (np.matlib.repmat(w0,len(X),1))\n",
    "    W1 = (np.matlib.repmat(w1,len(X),1))\n",
    "\n",
    "    # [TO DO]: compute mse\n",
    "    mse = (1/(2*N))*np.sum((W0 + W1*x - y)**2)\n",
    "    mse_array.append(mse)\n",
    "\n",
    "    #print(mse)"
   ]
  },
  {
   "cell_type": "code",
   "execution_count": 6,
   "metadata": {
    "id": "uaULdJl49Owi"
   },
   "outputs": [],
   "source": [
    "### IMPORTANT ###\n",
    "## If non-vectorized, then need to form w\n",
    "w = np.array([w0,w1])"
   ]
  },
  {
   "cell_type": "markdown",
   "metadata": {
    "id": "PlrECN4Ug5Lu"
   },
   "source": []
  },
  {
   "cell_type": "code",
   "execution_count": 7,
   "metadata": {
    "colab": {
     "base_uri": "https://localhost:8080/",
     "height": 290
    },
    "id": "L4hBzd0RbWGa",
    "outputId": "4df71c16-ef42-4d89-dd1b-21113acf414f"
   },
   "outputs": [
    {
     "data": {
      "image/png": "[encoded data removed]",
      "text/plain": [
       "<Figure size 432x288 with 1 Axes>"
      ]
     },
     "metadata": {
      "needs_background": "light"
     },
     "output_type": "display_data"
    }
   ],
   "source": [
    "### Plot mse vs iterations\n",
    "plt.plot(mse_array)  #\n",
    "plt.xlabel(\"Epochs\")\n",
    "plt.ylabel(\"mse\")\n",
    "plt.show()"
   ]
  },
  {
   "cell_type": "code",
   "execution_count": 8,
   "metadata": {
    "colab": {
     "base_uri": "https://localhost:8080/",
     "height": 290
    },
    "id": "-BsghsXObWGf",
    "outputId": "bc98740d-753c-44e6-d784-4baa3d99561d"
   },
   "outputs": [
    {
     "data": {
      "image/png": "[encoded data removed]",
      "text/plain": [
       "<Figure size 432x288 with 1 Axes>"
      ]
     },
     "metadata": {
      "needs_background": "light"
     },
     "output_type": "display_data"
    }
   ],
   "source": [
    "### Plot the fitted curve\n",
    "\n",
    "yhat = np.dot(np.sort(X, axis=0),w)\n",
    "\n",
    "plt.plot(X[:,1] * max_min, y, 'ro')\n",
    "plt.plot(Xsort[:,1] *max_min + Xmin, yhat, 'b', label=\"Gradient descent\")\n",
    "plt.legend()\n",
    "plt.xlabel(\"# Square footage\")\n",
    "plt.ylabel(\"Price\")\n",
    "plt.show()\n"
   ]
  },
  {
   "cell_type": "code",
   "execution_count": 9,
   "metadata": {
    "colab": {
     "base_uri": "https://localhost:8080/"
    },
    "id": "IKV3TcRBN742",
    "outputId": "08ace3a6-9702-4526-f582-3d71b26ed8c1"
   },
   "outputs": [
    {
     "name": "stdout",
     "output_type": "stream",
     "text": [
      "[[257032.99535752]\n",
      " [535468.30618548]]\n"
     ]
    }
   ],
   "source": [
    "### Print the weight vector w\n",
    "print (w)"
   ]
  },
  {
   "cell_type": "code",
   "execution_count": 80,
   "metadata": {
    "colab": {
     "base_uri": "https://localhost:8080/"
    },
    "id": "Fw2MXmi4bWGl",
    "outputId": "f3dfd865-aca2-4ec6-c332-b4f6e3d6eb6c"
   },
   "outputs": [
    {
     "name": "stdout",
     "output_type": "stream",
     "text": [
      "[[648213.4346068]]\n"
     ]
    }
   ],
   "source": [
    "### Predict the price of a 5000 sqft house\n",
    "### Remember to normalize it first\n",
    "size = 5000\n",
    "size_normalized = (size - Xmin)/max_min\n",
    "y_pred = w0 + w1*[size_normalized]\n",
    "\n",
    "print(y_pred)\n"
   ]
  }
 ],
 "metadata": {
  "accelerator": "TPU",
  "colab": {
   "collapsed_sections": [],
   "name": "Assignment_linear_regression.ipynb",
   "provenance": []
  },
  "kernelspec": {
   "display_name": "Python 3 (ipykernel)",
   "language": "python",
   "name": "python3"
  },
  "language_info": {
   "codemirror_mode": {
    "name": "ipython",
    "version": 3
   },
   "file_extension": ".py",
   "mimetype": "text/x-python",
   "name": "python",
   "nbconvert_exporter": "python",
   "pygments_lexer": "ipython3",
   "version": "3.9.7"
  }
 },
 "nbformat": 4,
 "nbformat_minor": 1
}
